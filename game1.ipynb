{
 "cells": [
  {
   "cell_type": "code",
   "execution_count": 43,
   "metadata": {},
   "outputs": [],
   "source": [
    "from tkinter import *\n",
    "import random\n",
    "\n",
    "janela = Tk()\n",
    "\n",
    "janela.geometry(\"200x250+550+360\")\n",
    "janela.config(background = \"black\")\n",
    "\n",
    "lista_locais = []\n",
    "\n",
    "a1 = Button(text = \" \", height = 2, width = 4, background = \"dark orange\", command = lambda : setar(a1))\n",
    "a1.place(x = 10, y = 60)\n",
    "\n",
    "a2 = Button(text = \" \", height = 2, width = 4, background = \"blue\", command = lambda : setar(a2))\n",
    "a2.place(x = 60, y = 60)\n",
    "\n",
    "a3 = Button(text = \" \", height = 2, width = 4, background = \"green\", command = lambda : setar(a3))\n",
    "a3.place(x = 110, y = 60)\n",
    "\n",
    "b1 = Button(text = \" \", height = 2, width = 4, background = \"red\", command = lambda : setar(b1))\n",
    "b1.place(x = 10, y = 110)\n",
    "\n",
    "b2 = Button(text = \" \", height = 2, width = 4, background = \"dark gray\", command = lambda : setar(b2))\n",
    "b2.place(x = 60, y = 110)\n",
    "\n",
    "b3 = Button(text = \" \", height = 2, width = 4, background = \"yellow\", command = lambda : setar(b3))\n",
    "b3.place(x = 110, y = 110)\n",
    "\n",
    "c1 = Button(text = \" \", height = 2, width = 4, background = \"purple\", command = lambda : setar(c1))\n",
    "c1.place(x = 10, y = 160)\n",
    "\n",
    "c2 = Button(text = \" \", height = 2, width = 4, background = \"pink\", command = lambda : setar(c2))\n",
    "c2.place(x = 60, y = 160)\n",
    "\n",
    "c3 = Button(text = \" \", height = 2, width = 4, background = \"dark red\", command = lambda : setar(c3))\n",
    "c3.place(x = 110, y = 160)\n",
    "\n",
    "### Function ##\n",
    "\n",
    "def setar(button):\n",
    "    button.configure(text = \"X\", state = DISABLED)\n",
    "    lista_locais.append(button)\n",
    "    print(lista_locais)\n",
    "    print(len(lista_locais))\n",
    "\n",
    "    first_round(button)\n",
    "\n",
    "def first_round(button):\n",
    "    if len(lista_locais) == 1:\n",
    "        before_random = random.choice([a1, a3, c1, c3])\n",
    "        before_random.configure(text = \"O\", state=DISABLED)\n",
    "\n",
    "\n",
    "janela.mainloop()"
   ]
  }
 ],
 "metadata": {
  "kernelspec": {
   "display_name": "Python 3",
   "language": "python",
   "name": "python3"
  },
  "language_info": {
   "codemirror_mode": {
    "name": "ipython",
    "version": 3
   },
   "file_extension": ".py",
   "mimetype": "text/x-python",
   "name": "python",
   "nbconvert_exporter": "python",
   "pygments_lexer": "ipython3",
   "version": "3.11.7"
  }
 },
 "nbformat": 4,
 "nbformat_minor": 2
}
