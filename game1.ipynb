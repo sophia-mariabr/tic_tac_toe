{
 "cells": [
  {
   "cell_type": "code",
   "execution_count": 24,
   "metadata": {},
   "outputs": [
    {
     "ename": "IndentationError",
     "evalue": "expected an indented block after 'else' statement on line 59 (60485778.py, line 60)",
     "output_type": "error",
     "traceback": [
      "\u001b[1;36m  Cell \u001b[1;32mIn[24], line 60\u001b[1;36m\u001b[0m\n\u001b[1;33m    def analise_game():\u001b[0m\n\u001b[1;37m                       ^\u001b[0m\n\u001b[1;31mIndentationError\u001b[0m\u001b[1;31m:\u001b[0m expected an indented block after 'else' statement on line 59\n"
     ]
    }
   ],
   "source": [
    "from tkinter import *\n",
    "import random\n",
    "\n",
    "janela = Tk()\n",
    "\n",
    "janela.geometry(\"200x250+550+360\")\n",
    "janela.config(background = \"black\")\n",
    "\n",
    "lista_locais = []\n",
    "lista_produto_posicao = [2,2,2,2,2,2,2,2,2]\n",
    "\n",
    "a1 = Button(text = \" \", height = 2, width = 4, background = \"dark orange\", command = lambda : setar(a1))\n",
    "a1.place(x = 10, y = 60)\n",
    "\n",
    "a2 = Button(text = \" \", height = 2, width = 4, background = \"blue\", command = lambda : setar(a2))\n",
    "a2.place(x = 60, y = 60)\n",
    "\n",
    "a3 = Button(text = \" \", height = 2, width = 4, background = \"green\", command = lambda : setar(a3))\n",
    "a3.place(x = 110, y = 60)\n",
    "\n",
    "b1 = Button(text = \" \", height = 2, width = 4, background = \"red\", command = lambda : setar(b1))\n",
    "b1.place(x = 10, y = 110)\n",
    "\n",
    "b2 = Button(text = \" \", height = 2, width = 4, background = \"dark gray\", command = lambda : setar(b2))\n",
    "b2.place(x = 60, y = 110)\n",
    "\n",
    "b3 = Button(text = \" \", height = 2, width = 4, background = \"yellow\", command = lambda : setar(b3))\n",
    "b3.place(x = 110, y = 110)\n",
    "\n",
    "c1 = Button(text = \" \", height = 2, width = 4, background = \"purple\", command = lambda : setar(c1))\n",
    "c1.place(x = 10, y = 160)\n",
    "\n",
    "c2 = Button(text = \" \", height = 2, width = 4, background = \"pink\", command = lambda : setar(c2))\n",
    "c2.place(x = 60, y = 160)\n",
    "\n",
    "c3 = Button(text = \" \", height = 2, width = 4, background = \"dark red\", command = lambda : setar(c3))\n",
    "c3.place(x = 110, y = 160)\n",
    "\n",
    "lista_button = [a1,a2,a3,b1,b2,b3,c1,c2,c3]\n",
    "\n",
    "### Function ##\n",
    "\n",
    "def setar(button):\n",
    "    button.configure(text = \"X\", state = DISABLED)\n",
    "    lista_locais.append(button)\n",
    "    print(lista_locais)\n",
    "    print(len(lista_locais))\n",
    "\n",
    "    first_round(button)\n",
    "\n",
    "def first_round(button):\n",
    "    if len(lista_locais) == 1 and lista_locais.count(b2) == 1:\n",
    "        after_random = random.choice([a1, a3, c1, c3])\n",
    "        after_random.configure(text = \"O\", state=DISABLED)\n",
    "        lista_locais.appende(button)\n",
    "    elif len(lista_locais) == 1 and lista_locais.count(b2) == 0:\n",
    "        button = b2\n",
    "        button.configure(text = \"O\", state=DISABLED)\n",
    "    else:\n",
    "def analise_game():\n",
    "    for i in range(len(lista_button)):\n",
    "        if lista_button[i].cget(\"text\") == \"X\":\n",
    "            lista_produto_posicao[i] == 3\n",
    "        elif lista_button[i].cget(\"text\") == \"O\":\n",
    "            lista_produto_posicao[i] == 4\n",
    "    \n",
    "\n",
    "\n",
    "\n",
    "\n",
    "janela.mainloop()"
   ]
  }
 ],
 "metadata": {
  "kernelspec": {
   "display_name": "Python 3",
   "language": "python",
   "name": "python3"
  },
  "language_info": {
   "codemirror_mode": {
    "name": "ipython",
    "version": 3
   },
   "file_extension": ".py",
   "mimetype": "text/x-python",
   "name": "python",
   "nbconvert_exporter": "python",
   "pygments_lexer": "ipython3",
   "version": "3.11.7"
  }
 },
 "nbformat": 4,
 "nbformat_minor": 2
}
